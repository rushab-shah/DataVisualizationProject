{
 "cells": [
  {
   "cell_type": "code",
   "execution_count": 28,
   "id": "89c5c7e7",
   "metadata": {},
   "outputs": [],
   "source": [
    "import pandas as pd\n",
    "import numpy as np\n",
    "import matplotlib.pyplot as plt\n",
    "import seaborn as sns\n",
    "import scipy\n",
    "from scipy import stats\n",
    "import warnings\n",
    "warnings.simplefilter(\"ignore\")\n",
    "import statsmodels.api as sm"
   ]
  },
  {
   "cell_type": "markdown",
   "id": "1ec17d09",
   "metadata": {},
   "source": [
    "### Reading the dataset ###"
   ]
  },
  {
   "cell_type": "code",
   "execution_count": 29,
   "id": "d24110ca",
   "metadata": {},
   "outputs": [
    {
     "data": {
      "text/html": [
       "<div>\n",
       "<style scoped>\n",
       "    .dataframe tbody tr th:only-of-type {\n",
       "        vertical-align: middle;\n",
       "    }\n",
       "\n",
       "    .dataframe tbody tr th {\n",
       "        vertical-align: top;\n",
       "    }\n",
       "\n",
       "    .dataframe thead th {\n",
       "        text-align: right;\n",
       "    }\n",
       "</style>\n",
       "<table border=\"1\" class=\"dataframe\">\n",
       "  <thead>\n",
       "    <tr style=\"text-align: right;\">\n",
       "      <th></th>\n",
       "      <th>Data As Of</th>\n",
       "      <th>Start Date</th>\n",
       "      <th>End Date</th>\n",
       "      <th>Group</th>\n",
       "      <th>Year</th>\n",
       "      <th>Month</th>\n",
       "      <th>State</th>\n",
       "      <th>Condition Group</th>\n",
       "      <th>Condition</th>\n",
       "      <th>ICD10_codes</th>\n",
       "      <th>Age Group</th>\n",
       "      <th>COVID-19 Deaths</th>\n",
       "      <th>Number of Mentions</th>\n",
       "      <th>Flag</th>\n",
       "    </tr>\n",
       "  </thead>\n",
       "  <tbody>\n",
       "    <tr>\n",
       "      <th>0</th>\n",
       "      <td>11/27/2022</td>\n",
       "      <td>01/01/2020</td>\n",
       "      <td>11/26/2022</td>\n",
       "      <td>By Total</td>\n",
       "      <td>NaN</td>\n",
       "      <td>NaN</td>\n",
       "      <td>United States</td>\n",
       "      <td>Respiratory diseases</td>\n",
       "      <td>Influenza and pneumonia</td>\n",
       "      <td>J09-J18</td>\n",
       "      <td>0-24</td>\n",
       "      <td>1454.0</td>\n",
       "      <td>1520.0</td>\n",
       "      <td>NaN</td>\n",
       "    </tr>\n",
       "    <tr>\n",
       "      <th>1</th>\n",
       "      <td>11/27/2022</td>\n",
       "      <td>01/01/2020</td>\n",
       "      <td>11/26/2022</td>\n",
       "      <td>By Total</td>\n",
       "      <td>NaN</td>\n",
       "      <td>NaN</td>\n",
       "      <td>United States</td>\n",
       "      <td>Respiratory diseases</td>\n",
       "      <td>Influenza and pneumonia</td>\n",
       "      <td>J09-J18</td>\n",
       "      <td>25-34</td>\n",
       "      <td>5666.0</td>\n",
       "      <td>5880.0</td>\n",
       "      <td>NaN</td>\n",
       "    </tr>\n",
       "    <tr>\n",
       "      <th>2</th>\n",
       "      <td>11/27/2022</td>\n",
       "      <td>01/01/2020</td>\n",
       "      <td>11/26/2022</td>\n",
       "      <td>By Total</td>\n",
       "      <td>NaN</td>\n",
       "      <td>NaN</td>\n",
       "      <td>United States</td>\n",
       "      <td>Respiratory diseases</td>\n",
       "      <td>Influenza and pneumonia</td>\n",
       "      <td>J09-J18</td>\n",
       "      <td>35-44</td>\n",
       "      <td>14785.0</td>\n",
       "      <td>15395.0</td>\n",
       "      <td>NaN</td>\n",
       "    </tr>\n",
       "    <tr>\n",
       "      <th>3</th>\n",
       "      <td>11/27/2022</td>\n",
       "      <td>01/01/2020</td>\n",
       "      <td>11/26/2022</td>\n",
       "      <td>By Total</td>\n",
       "      <td>NaN</td>\n",
       "      <td>NaN</td>\n",
       "      <td>United States</td>\n",
       "      <td>Respiratory diseases</td>\n",
       "      <td>Influenza and pneumonia</td>\n",
       "      <td>J09-J18</td>\n",
       "      <td>45-54</td>\n",
       "      <td>36798.0</td>\n",
       "      <td>38235.0</td>\n",
       "      <td>NaN</td>\n",
       "    </tr>\n",
       "    <tr>\n",
       "      <th>4</th>\n",
       "      <td>11/27/2022</td>\n",
       "      <td>01/01/2020</td>\n",
       "      <td>11/26/2022</td>\n",
       "      <td>By Total</td>\n",
       "      <td>NaN</td>\n",
       "      <td>NaN</td>\n",
       "      <td>United States</td>\n",
       "      <td>Respiratory diseases</td>\n",
       "      <td>Influenza and pneumonia</td>\n",
       "      <td>J09-J18</td>\n",
       "      <td>55-64</td>\n",
       "      <td>80764.0</td>\n",
       "      <td>83685.0</td>\n",
       "      <td>NaN</td>\n",
       "    </tr>\n",
       "  </tbody>\n",
       "</table>\n",
       "</div>"
      ],
      "text/plain": [
       "   Data As Of  Start Date    End Date     Group  Year  Month          State  \\\n",
       "0  11/27/2022  01/01/2020  11/26/2022  By Total   NaN    NaN  United States   \n",
       "1  11/27/2022  01/01/2020  11/26/2022  By Total   NaN    NaN  United States   \n",
       "2  11/27/2022  01/01/2020  11/26/2022  By Total   NaN    NaN  United States   \n",
       "3  11/27/2022  01/01/2020  11/26/2022  By Total   NaN    NaN  United States   \n",
       "4  11/27/2022  01/01/2020  11/26/2022  By Total   NaN    NaN  United States   \n",
       "\n",
       "        Condition Group                Condition ICD10_codes Age Group  \\\n",
       "0  Respiratory diseases  Influenza and pneumonia     J09-J18      0-24   \n",
       "1  Respiratory diseases  Influenza and pneumonia     J09-J18     25-34   \n",
       "2  Respiratory diseases  Influenza and pneumonia     J09-J18     35-44   \n",
       "3  Respiratory diseases  Influenza and pneumonia     J09-J18     45-54   \n",
       "4  Respiratory diseases  Influenza and pneumonia     J09-J18     55-64   \n",
       "\n",
       "   COVID-19 Deaths  Number of Mentions Flag  \n",
       "0           1454.0              1520.0  NaN  \n",
       "1           5666.0              5880.0  NaN  \n",
       "2          14785.0             15395.0  NaN  \n",
       "3          36798.0             38235.0  NaN  \n",
       "4          80764.0             83685.0  NaN  "
      ]
     },
     "execution_count": 29,
     "metadata": {},
     "output_type": "execute_result"
    }
   ],
   "source": [
    "# First read the data in a dataframe\n",
    "conditions_data = pd.read_csv(\"conditions.csv\")\n",
    "# See how the data looks like\n",
    "conditions_data.head()\n",
    "\n",
    "#case_surveillance.csv"
   ]
  },
  {
   "cell_type": "code",
   "execution_count": 30,
   "id": "43460633",
   "metadata": {},
   "source": [
    "### Data Preprocessing ###"
   ]
  },
  {
   "cell_type": "code",
   "execution_count": 4,
   "id": "cbcbc93c",
   "metadata": {},
   "outputs": [
    {
     "data": {
      "text/plain": [
       "Data As Of                 0\n",
       "Start Date                 0\n",
       "End Date                   0\n",
       "Group                      0\n",
       "Year                   12420\n",
       "Month                  49680\n",
       "State                      0\n",
       "Condition Group            0\n",
       "Condition                  0\n",
       "ICD10_codes                0\n",
       "Age Group                  0\n",
       "COVID-19 Deaths       141685\n",
       "Number of Mentions    137129\n",
       "Flag                  342695\n",
       "dtype: int64"
      ]
     },
     "execution_count": 10,
     "metadata": {},
     "output_type": "execute_result"
    }
   ],
   "source": [
    "conditions_data.isna().sum()"
   ]
  },
  {
   "cell_type": "code",
   "execution_count": 20,
   "id": "f002a206",
   "metadata": {},
   "outputs": [],
   "source": [
    "### Removing unnecessary columns\n",
    "\n",
    "conditions_data = conditions_data.drop(['Flag','Number of Mentions'], axis=1)"
   ]
  },
  {
   "cell_type": "code",
   "execution_count": 21,
   "id": "b73176d2",
   "metadata": {},
   "outputs": [
    {
     "data": {
      "text/html": [
       "<div>\n",
       "<style scoped>\n",
       "    .dataframe tbody tr th:only-of-type {\n",
       "        vertical-align: middle;\n",
       "    }\n",
       "\n",
       "    .dataframe tbody tr th {\n",
       "        vertical-align: top;\n",
       "    }\n",
       "\n",
       "    .dataframe thead th {\n",
       "        text-align: right;\n",
       "    }\n",
       "</style>\n",
       "<table border=\"1\" class=\"dataframe\">\n",
       "  <thead>\n",
       "    <tr style=\"text-align: right;\">\n",
       "      <th></th>\n",
       "      <th>Data As Of</th>\n",
       "      <th>Start Date</th>\n",
       "      <th>End Date</th>\n",
       "      <th>Group</th>\n",
       "      <th>Year</th>\n",
       "      <th>Month</th>\n",
       "      <th>State</th>\n",
       "      <th>Condition Group</th>\n",
       "      <th>Condition</th>\n",
       "      <th>ICD10_codes</th>\n",
       "      <th>Age Group</th>\n",
       "      <th>COVID-19 Deaths</th>\n",
       "    </tr>\n",
       "  </thead>\n",
       "  <tbody>\n",
       "    <tr>\n",
       "      <th>0</th>\n",
       "      <td>11/27/2022</td>\n",
       "      <td>01/01/2020</td>\n",
       "      <td>11/26/2022</td>\n",
       "      <td>By Total</td>\n",
       "      <td>NaN</td>\n",
       "      <td>NaN</td>\n",
       "      <td>United States</td>\n",
       "      <td>Respiratory diseases</td>\n",
       "      <td>Influenza and pneumonia</td>\n",
       "      <td>J09-J18</td>\n",
       "      <td>0-24</td>\n",
       "      <td>1454.0</td>\n",
       "    </tr>\n",
       "    <tr>\n",
       "      <th>1</th>\n",
       "      <td>11/27/2022</td>\n",
       "      <td>01/01/2020</td>\n",
       "      <td>11/26/2022</td>\n",
       "      <td>By Total</td>\n",
       "      <td>NaN</td>\n",
       "      <td>NaN</td>\n",
       "      <td>United States</td>\n",
       "      <td>Respiratory diseases</td>\n",
       "      <td>Influenza and pneumonia</td>\n",
       "      <td>J09-J18</td>\n",
       "      <td>25-34</td>\n",
       "      <td>5666.0</td>\n",
       "    </tr>\n",
       "    <tr>\n",
       "      <th>2</th>\n",
       "      <td>11/27/2022</td>\n",
       "      <td>01/01/2020</td>\n",
       "      <td>11/26/2022</td>\n",
       "      <td>By Total</td>\n",
       "      <td>NaN</td>\n",
       "      <td>NaN</td>\n",
       "      <td>United States</td>\n",
       "      <td>Respiratory diseases</td>\n",
       "      <td>Influenza and pneumonia</td>\n",
       "      <td>J09-J18</td>\n",
       "      <td>35-44</td>\n",
       "      <td>14785.0</td>\n",
       "    </tr>\n",
       "    <tr>\n",
       "      <th>3</th>\n",
       "      <td>11/27/2022</td>\n",
       "      <td>01/01/2020</td>\n",
       "      <td>11/26/2022</td>\n",
       "      <td>By Total</td>\n",
       "      <td>NaN</td>\n",
       "      <td>NaN</td>\n",
       "      <td>United States</td>\n",
       "      <td>Respiratory diseases</td>\n",
       "      <td>Influenza and pneumonia</td>\n",
       "      <td>J09-J18</td>\n",
       "      <td>45-54</td>\n",
       "      <td>36798.0</td>\n",
       "    </tr>\n",
       "    <tr>\n",
       "      <th>4</th>\n",
       "      <td>11/27/2022</td>\n",
       "      <td>01/01/2020</td>\n",
       "      <td>11/26/2022</td>\n",
       "      <td>By Total</td>\n",
       "      <td>NaN</td>\n",
       "      <td>NaN</td>\n",
       "      <td>United States</td>\n",
       "      <td>Respiratory diseases</td>\n",
       "      <td>Influenza and pneumonia</td>\n",
       "      <td>J09-J18</td>\n",
       "      <td>55-64</td>\n",
       "      <td>80764.0</td>\n",
       "    </tr>\n",
       "  </tbody>\n",
       "</table>\n",
       "</div>"
      ],
      "text/plain": [
       "   Data As Of  Start Date    End Date     Group  Year  Month          State  \\\n",
       "0  11/27/2022  01/01/2020  11/26/2022  By Total   NaN    NaN  United States   \n",
       "1  11/27/2022  01/01/2020  11/26/2022  By Total   NaN    NaN  United States   \n",
       "2  11/27/2022  01/01/2020  11/26/2022  By Total   NaN    NaN  United States   \n",
       "3  11/27/2022  01/01/2020  11/26/2022  By Total   NaN    NaN  United States   \n",
       "4  11/27/2022  01/01/2020  11/26/2022  By Total   NaN    NaN  United States   \n",
       "\n",
       "        Condition Group                Condition ICD10_codes Age Group  \\\n",
       "0  Respiratory diseases  Influenza and pneumonia     J09-J18      0-24   \n",
       "1  Respiratory diseases  Influenza and pneumonia     J09-J18     25-34   \n",
       "2  Respiratory diseases  Influenza and pneumonia     J09-J18     35-44   \n",
       "3  Respiratory diseases  Influenza and pneumonia     J09-J18     45-54   \n",
       "4  Respiratory diseases  Influenza and pneumonia     J09-J18     55-64   \n",
       "\n",
       "   COVID-19 Deaths  \n",
       "0           1454.0  \n",
       "1           5666.0  \n",
       "2          14785.0  \n",
       "3          36798.0  \n",
       "4          80764.0  "
      ]
     },
     "execution_count": 21,
     "metadata": {},
     "output_type": "execute_result"
    }
   ],
   "source": [
    "conditions_data.head()"
   ]
  },
  {
   "cell_type": "markdown",
   "id": "cceedac1",
   "metadata": {},
   "source": [
    "### Removing Null Values ###"
   ]
  },
  {
   "cell_type": "code",
   "execution_count": 17,
   "id": "7a37dbb0",
   "metadata": {},
   "outputs": [
    {
     "data": {
      "text/plain": [
       "Data As Of                 0\n",
       "Start Date                 0\n",
       "End Date                   0\n",
       "Group                      0\n",
       "State                      0\n",
       "Condition Group            0\n",
       "Condition                  0\n",
       "ICD10_codes                0\n",
       "Age Group                  0\n",
       "COVID-19 Deaths       141685\n",
       "Number of Mentions    137129\n",
       "Flag                  342695\n",
       "dtype: int64"
      ]
     },
     "execution_count": 17,
     "metadata": {},
     "output_type": "execute_result"
    }
   ],
   "source": [
    "conditions_data.isna().sum()"
   ]
  },
  {
   "cell_type": "code",
   "execution_count": 22,
   "id": "2172525d",
   "metadata": {},
   "outputs": [],
   "source": [
    "### Removing null values from the columns COVID-19 Deaths, Year, Month\n",
    "df = conditions_data.dropna(subset=['COVID-19 Deaths','Year', 'Month'])"
   ]
  },
  {
   "cell_type": "code",
   "execution_count": 23,
   "id": "38dc3312",
   "metadata": {},
   "outputs": [
    {
     "data": {
      "text/html": [
       "<div>\n",
       "<style scoped>\n",
       "    .dataframe tbody tr th:only-of-type {\n",
       "        vertical-align: middle;\n",
       "    }\n",
       "\n",
       "    .dataframe tbody tr th {\n",
       "        vertical-align: top;\n",
       "    }\n",
       "\n",
       "    .dataframe thead th {\n",
       "        text-align: right;\n",
       "    }\n",
       "</style>\n",
       "<table border=\"1\" class=\"dataframe\">\n",
       "  <thead>\n",
       "    <tr style=\"text-align: right;\">\n",
       "      <th></th>\n",
       "      <th>Data As Of</th>\n",
       "      <th>Start Date</th>\n",
       "      <th>End Date</th>\n",
       "      <th>Group</th>\n",
       "      <th>Year</th>\n",
       "      <th>Month</th>\n",
       "      <th>State</th>\n",
       "      <th>Condition Group</th>\n",
       "      <th>Condition</th>\n",
       "      <th>ICD10_codes</th>\n",
       "      <th>Age Group</th>\n",
       "      <th>COVID-19 Deaths</th>\n",
       "    </tr>\n",
       "  </thead>\n",
       "  <tbody>\n",
       "    <tr>\n",
       "      <th>49680</th>\n",
       "      <td>11/27/2022</td>\n",
       "      <td>01/01/2020</td>\n",
       "      <td>01/31/2020</td>\n",
       "      <td>By Month</td>\n",
       "      <td>2020.0</td>\n",
       "      <td>1.0</td>\n",
       "      <td>United States</td>\n",
       "      <td>Respiratory diseases</td>\n",
       "      <td>Influenza and pneumonia</td>\n",
       "      <td>J09-J18</td>\n",
       "      <td>0-24</td>\n",
       "      <td>0.0</td>\n",
       "    </tr>\n",
       "    <tr>\n",
       "      <th>49681</th>\n",
       "      <td>11/27/2022</td>\n",
       "      <td>02/01/2020</td>\n",
       "      <td>02/29/2020</td>\n",
       "      <td>By Month</td>\n",
       "      <td>2020.0</td>\n",
       "      <td>2.0</td>\n",
       "      <td>United States</td>\n",
       "      <td>Respiratory diseases</td>\n",
       "      <td>Influenza and pneumonia</td>\n",
       "      <td>J09-J18</td>\n",
       "      <td>0-24</td>\n",
       "      <td>0.0</td>\n",
       "    </tr>\n",
       "    <tr>\n",
       "      <th>49682</th>\n",
       "      <td>11/27/2022</td>\n",
       "      <td>03/01/2020</td>\n",
       "      <td>03/31/2020</td>\n",
       "      <td>By Month</td>\n",
       "      <td>2020.0</td>\n",
       "      <td>3.0</td>\n",
       "      <td>United States</td>\n",
       "      <td>Respiratory diseases</td>\n",
       "      <td>Influenza and pneumonia</td>\n",
       "      <td>J09-J18</td>\n",
       "      <td>0-24</td>\n",
       "      <td>9.0</td>\n",
       "    </tr>\n",
       "    <tr>\n",
       "      <th>49683</th>\n",
       "      <td>11/27/2022</td>\n",
       "      <td>04/01/2020</td>\n",
       "      <td>04/30/2020</td>\n",
       "      <td>By Month</td>\n",
       "      <td>2020.0</td>\n",
       "      <td>4.0</td>\n",
       "      <td>United States</td>\n",
       "      <td>Respiratory diseases</td>\n",
       "      <td>Influenza and pneumonia</td>\n",
       "      <td>J09-J18</td>\n",
       "      <td>0-24</td>\n",
       "      <td>27.0</td>\n",
       "    </tr>\n",
       "    <tr>\n",
       "      <th>49684</th>\n",
       "      <td>11/27/2022</td>\n",
       "      <td>05/01/2020</td>\n",
       "      <td>05/31/2020</td>\n",
       "      <td>By Month</td>\n",
       "      <td>2020.0</td>\n",
       "      <td>5.0</td>\n",
       "      <td>United States</td>\n",
       "      <td>Respiratory diseases</td>\n",
       "      <td>Influenza and pneumonia</td>\n",
       "      <td>J09-J18</td>\n",
       "      <td>0-24</td>\n",
       "      <td>19.0</td>\n",
       "    </tr>\n",
       "  </tbody>\n",
       "</table>\n",
       "</div>"
      ],
      "text/plain": [
       "       Data As Of  Start Date    End Date     Group    Year  Month  \\\n",
       "49680  11/27/2022  01/01/2020  01/31/2020  By Month  2020.0    1.0   \n",
       "49681  11/27/2022  02/01/2020  02/29/2020  By Month  2020.0    2.0   \n",
       "49682  11/27/2022  03/01/2020  03/31/2020  By Month  2020.0    3.0   \n",
       "49683  11/27/2022  04/01/2020  04/30/2020  By Month  2020.0    4.0   \n",
       "49684  11/27/2022  05/01/2020  05/31/2020  By Month  2020.0    5.0   \n",
       "\n",
       "               State       Condition Group                Condition  \\\n",
       "49680  United States  Respiratory diseases  Influenza and pneumonia   \n",
       "49681  United States  Respiratory diseases  Influenza and pneumonia   \n",
       "49682  United States  Respiratory diseases  Influenza and pneumonia   \n",
       "49683  United States  Respiratory diseases  Influenza and pneumonia   \n",
       "49684  United States  Respiratory diseases  Influenza and pneumonia   \n",
       "\n",
       "      ICD10_codes Age Group  COVID-19 Deaths  \n",
       "49680     J09-J18      0-24              0.0  \n",
       "49681     J09-J18      0-24              0.0  \n",
       "49682     J09-J18      0-24              9.0  \n",
       "49683     J09-J18      0-24             27.0  \n",
       "49684     J09-J18      0-24             19.0  "
      ]
     },
     "execution_count": 23,
     "metadata": {},
     "output_type": "execute_result"
    }
   ],
   "source": [
    "df.head()"
   ]
  },
  {
   "cell_type": "code",
   "execution_count": 25,
   "id": "85fd4c28",
   "metadata": {},
   "outputs": [
    {
     "data": {
      "text/plain": [
       "Data As Of         0\n",
       "Start Date         0\n",
       "End Date           0\n",
       "Group              0\n",
       "Year               0\n",
       "Month              0\n",
       "State              0\n",
       "Condition Group    0\n",
       "Condition          0\n",
       "ICD10_codes        0\n",
       "Age Group          0\n",
       "COVID-19 Deaths    0\n",
       "dtype: int64"
      ]
     },
     "execution_count": 25,
     "metadata": {},
     "output_type": "execute_result"
    }
   ],
   "source": [
    "df.isna().sum()"
   ]
  },
  {
   "cell_type": "code",
   "execution_count": null,
   "id": "6c04d6cf",
   "metadata": {},
   "outputs": [],
   "source": []
  },
  {
   "cell_type": "code",
   "execution_count": null,
   "id": "f8ef3769",
   "metadata": {},
   "outputs": [],
   "source": []
  },
  {
   "cell_type": "code",
   "execution_count": null,
   "id": "2ea88106",
   "metadata": {},
   "outputs": [],
   "source": []
  },
  {
   "cell_type": "code",
   "execution_count": null,
   "id": "0cf36c5f",
   "metadata": {},
   "outputs": [],
   "source": []
  },
  {
   "cell_type": "code",
   "execution_count": null,
   "id": "b935f45d",
   "metadata": {},
   "outputs": [],
   "source": []
  },
  {
   "cell_type": "code",
   "execution_count": 5,
   "id": "512edcfb",
   "metadata": {},
   "outputs": [
    {
     "name": "stdout",
     "output_type": "stream",
     "text": [
      "CPU times: user 1min 17s, sys: 12.4 s, total: 1min 29s\n",
      "Wall time: 1min 48s\n"
     ]
    }
   ],
   "source": [
    "%%time\n",
    "required_columns = ['case_month','res_state','age_group','exposure_yn','current_status','symptom_status','hosp_yn',\n",
    "                    'icu_yn','death_yn','underlying_conditions_yn']\n",
    "\n",
    "column_datatypes = {\"case_month\": \"str\", \"res_state\": \"str\", \"age_group\": \"category\", \"exposure_yn\":\"category\",\n",
    "             \"current_status\": \"category\", \"symptom_status\": \"category\", \"hosp_yn\": \"category\", \"icu_yn\": \"category\", \"death_yn\":\"category\",\n",
    "             \"underlying_conditions_yn\": \"category\"}\n",
    "\n",
    "case_data =  pd.read_csv(\"case_surveillance.csv\",usecols=required_columns, dtype=column_datatypes,\n",
    "                         memory_map=True)\n",
    "# case_data =  pd.read_csv(\"case_surveillance.csv\", nrows=1000000)"
   ]
  },
  {
   "cell_type": "code",
   "execution_count": 6,
   "id": "106a0a7a",
   "metadata": {},
   "outputs": [
    {
     "name": "stdout",
     "output_type": "stream",
     "text": [
      "<class 'pandas.core.frame.DataFrame'>\n",
      "RangeIndex: 90183148 entries, 0 to 90183147\n",
      "Columns: 10 entries, case_month to underlying_conditions_yn\n",
      "dtypes: category(8), object(2)\n",
      "memory usage: 11.0 GB\n"
     ]
    }
   ],
   "source": [
    "case_data.info(verbose=False, memory_usage=\"deep\")"
   ]
  },
  {
   "cell_type": "code",
   "execution_count": 7,
   "id": "0772dcc1",
   "metadata": {},
   "outputs": [
    {
     "data": {
      "text/html": [
       "<div>\n",
       "<style scoped>\n",
       "    .dataframe tbody tr th:only-of-type {\n",
       "        vertical-align: middle;\n",
       "    }\n",
       "\n",
       "    .dataframe tbody tr th {\n",
       "        vertical-align: top;\n",
       "    }\n",
       "\n",
       "    .dataframe thead th {\n",
       "        text-align: right;\n",
       "    }\n",
       "</style>\n",
       "<table border=\"1\" class=\"dataframe\">\n",
       "  <thead>\n",
       "    <tr style=\"text-align: right;\">\n",
       "      <th></th>\n",
       "      <th>case_month</th>\n",
       "      <th>res_state</th>\n",
       "      <th>age_group</th>\n",
       "      <th>exposure_yn</th>\n",
       "      <th>current_status</th>\n",
       "      <th>symptom_status</th>\n",
       "      <th>hosp_yn</th>\n",
       "      <th>icu_yn</th>\n",
       "      <th>death_yn</th>\n",
       "      <th>underlying_conditions_yn</th>\n",
       "    </tr>\n",
       "  </thead>\n",
       "  <tbody>\n",
       "    <tr>\n",
       "      <th>0</th>\n",
       "      <td>2022-03</td>\n",
       "      <td>CA</td>\n",
       "      <td>50 to 64 years</td>\n",
       "      <td>Missing</td>\n",
       "      <td>Laboratory-confirmed case</td>\n",
       "      <td>Symptomatic</td>\n",
       "      <td>Missing</td>\n",
       "      <td>Missing</td>\n",
       "      <td>Missing</td>\n",
       "      <td>NaN</td>\n",
       "    </tr>\n",
       "    <tr>\n",
       "      <th>1</th>\n",
       "      <td>2021-07</td>\n",
       "      <td>KS</td>\n",
       "      <td>50 to 64 years</td>\n",
       "      <td>Missing</td>\n",
       "      <td>Laboratory-confirmed case</td>\n",
       "      <td>Symptomatic</td>\n",
       "      <td>No</td>\n",
       "      <td>Missing</td>\n",
       "      <td>No</td>\n",
       "      <td>NaN</td>\n",
       "    </tr>\n",
       "    <tr>\n",
       "      <th>2</th>\n",
       "      <td>2022-05</td>\n",
       "      <td>NC</td>\n",
       "      <td>50 to 64 years</td>\n",
       "      <td>Missing</td>\n",
       "      <td>Laboratory-confirmed case</td>\n",
       "      <td>Unknown</td>\n",
       "      <td>Unknown</td>\n",
       "      <td>Unknown</td>\n",
       "      <td>No</td>\n",
       "      <td>NaN</td>\n",
       "    </tr>\n",
       "    <tr>\n",
       "      <th>3</th>\n",
       "      <td>2022-06</td>\n",
       "      <td>RI</td>\n",
       "      <td>65+ years</td>\n",
       "      <td>Missing</td>\n",
       "      <td>Probable Case</td>\n",
       "      <td>Missing</td>\n",
       "      <td>Missing</td>\n",
       "      <td>Missing</td>\n",
       "      <td>No</td>\n",
       "      <td>NaN</td>\n",
       "    </tr>\n",
       "    <tr>\n",
       "      <th>4</th>\n",
       "      <td>2020-08</td>\n",
       "      <td>FL</td>\n",
       "      <td>18 to 49 years</td>\n",
       "      <td>Missing</td>\n",
       "      <td>Laboratory-confirmed case</td>\n",
       "      <td>Missing</td>\n",
       "      <td>Missing</td>\n",
       "      <td>Missing</td>\n",
       "      <td>No</td>\n",
       "      <td>NaN</td>\n",
       "    </tr>\n",
       "    <tr>\n",
       "      <th>5</th>\n",
       "      <td>2021-09</td>\n",
       "      <td>KY</td>\n",
       "      <td>50 to 64 years</td>\n",
       "      <td>Missing</td>\n",
       "      <td>Laboratory-confirmed case</td>\n",
       "      <td>Symptomatic</td>\n",
       "      <td>No</td>\n",
       "      <td>Missing</td>\n",
       "      <td>No</td>\n",
       "      <td>NaN</td>\n",
       "    </tr>\n",
       "    <tr>\n",
       "      <th>6</th>\n",
       "      <td>2020-11</td>\n",
       "      <td>MN</td>\n",
       "      <td>65+ years</td>\n",
       "      <td>Missing</td>\n",
       "      <td>Laboratory-confirmed case</td>\n",
       "      <td>Symptomatic</td>\n",
       "      <td>Missing</td>\n",
       "      <td>Missing</td>\n",
       "      <td>No</td>\n",
       "      <td>NaN</td>\n",
       "    </tr>\n",
       "    <tr>\n",
       "      <th>7</th>\n",
       "      <td>2020-10</td>\n",
       "      <td>IL</td>\n",
       "      <td>65+ years</td>\n",
       "      <td>Missing</td>\n",
       "      <td>Probable Case</td>\n",
       "      <td>Missing</td>\n",
       "      <td>Missing</td>\n",
       "      <td>Missing</td>\n",
       "      <td>NaN</td>\n",
       "      <td>NaN</td>\n",
       "    </tr>\n",
       "    <tr>\n",
       "      <th>8</th>\n",
       "      <td>2021-05</td>\n",
       "      <td>WY</td>\n",
       "      <td>NaN</td>\n",
       "      <td>Missing</td>\n",
       "      <td>Laboratory-confirmed case</td>\n",
       "      <td>Missing</td>\n",
       "      <td>Missing</td>\n",
       "      <td>Missing</td>\n",
       "      <td>NaN</td>\n",
       "      <td>NaN</td>\n",
       "    </tr>\n",
       "    <tr>\n",
       "      <th>9</th>\n",
       "      <td>2022-01</td>\n",
       "      <td>MI</td>\n",
       "      <td>18 to 49 years</td>\n",
       "      <td>Missing</td>\n",
       "      <td>Laboratory-confirmed case</td>\n",
       "      <td>Missing</td>\n",
       "      <td>Missing</td>\n",
       "      <td>Missing</td>\n",
       "      <td>Unknown</td>\n",
       "      <td>NaN</td>\n",
       "    </tr>\n",
       "  </tbody>\n",
       "</table>\n",
       "</div>"
      ],
      "text/plain": [
       "  case_month res_state       age_group exposure_yn             current_status  \\\n",
       "0    2022-03        CA  50 to 64 years     Missing  Laboratory-confirmed case   \n",
       "1    2021-07        KS  50 to 64 years     Missing  Laboratory-confirmed case   \n",
       "2    2022-05        NC  50 to 64 years     Missing  Laboratory-confirmed case   \n",
       "3    2022-06        RI       65+ years     Missing              Probable Case   \n",
       "4    2020-08        FL  18 to 49 years     Missing  Laboratory-confirmed case   \n",
       "5    2021-09        KY  50 to 64 years     Missing  Laboratory-confirmed case   \n",
       "6    2020-11        MN       65+ years     Missing  Laboratory-confirmed case   \n",
       "7    2020-10        IL       65+ years     Missing              Probable Case   \n",
       "8    2021-05        WY             NaN     Missing  Laboratory-confirmed case   \n",
       "9    2022-01        MI  18 to 49 years     Missing  Laboratory-confirmed case   \n",
       "\n",
       "  symptom_status  hosp_yn   icu_yn death_yn underlying_conditions_yn  \n",
       "0    Symptomatic  Missing  Missing  Missing                      NaN  \n",
       "1    Symptomatic       No  Missing       No                      NaN  \n",
       "2        Unknown  Unknown  Unknown       No                      NaN  \n",
       "3        Missing  Missing  Missing       No                      NaN  \n",
       "4        Missing  Missing  Missing       No                      NaN  \n",
       "5    Symptomatic       No  Missing       No                      NaN  \n",
       "6    Symptomatic  Missing  Missing       No                      NaN  \n",
       "7        Missing  Missing  Missing      NaN                      NaN  \n",
       "8        Missing  Missing  Missing      NaN                      NaN  \n",
       "9        Missing  Missing  Missing  Unknown                      NaN  "
      ]
     },
     "execution_count": 7,
     "metadata": {},
     "output_type": "execute_result"
    }
   ],
   "source": [
    "case_data.head(10)"
   ]
  },
  {
   "cell_type": "code",
   "execution_count": 8,
   "id": "875138fa",
   "metadata": {},
   "outputs": [
    {
     "data": {
      "text/plain": [
       "case_month                         9\n",
       "res_state                       1288\n",
       "age_group                     723020\n",
       "exposure_yn                        0\n",
       "current_status                     0\n",
       "symptom_status                     0\n",
       "hosp_yn                            0\n",
       "icu_yn                             0\n",
       "death_yn                     2826297\n",
       "underlying_conditions_yn    87213425\n",
       "dtype: int64"
      ]
     },
     "execution_count": 8,
     "metadata": {},
     "output_type": "execute_result"
    }
   ],
   "source": [
    "case_data.isna().sum()"
   ]
  },
  {
   "cell_type": "code",
   "execution_count": 9,
   "id": "f1bd2419",
   "metadata": {},
   "outputs": [],
   "source": [
    "case_data.dropna(subset=['underlying_conditions_yn'],inplace=True)"
   ]
  },
  {
   "cell_type": "code",
   "execution_count": 10,
   "id": "a8ae77cd",
   "metadata": {},
   "outputs": [],
   "source": [
    "# case_data.dropna(subset=['death_yn'],inplace=True)"
   ]
  },
  {
   "cell_type": "code",
   "execution_count": 11,
   "id": "393cb189",
   "metadata": {},
   "outputs": [
    {
     "name": "stdout",
     "output_type": "stream",
     "text": [
      "<class 'pandas.core.frame.DataFrame'>\n",
      "Int64Index: 2969723 entries, 27 to 90183145\n",
      "Columns: 10 entries, case_month to underlying_conditions_yn\n",
      "dtypes: category(8), object(2)\n",
      "memory usage: 393.7 MB\n"
     ]
    }
   ],
   "source": [
    "case_data.info(verbose=False, memory_usage=\"deep\")"
   ]
  },
  {
   "cell_type": "code",
   "execution_count": 12,
   "id": "e2a25760",
   "metadata": {},
   "outputs": [
    {
     "data": {
      "text/plain": [
       "case_month                       0\n",
       "res_state                      136\n",
       "age_group                    46397\n",
       "exposure_yn                      0\n",
       "current_status                   0\n",
       "symptom_status                   0\n",
       "hosp_yn                          0\n",
       "icu_yn                           0\n",
       "death_yn                    230833\n",
       "underlying_conditions_yn         0\n",
       "dtype: int64"
      ]
     },
     "execution_count": 12,
     "metadata": {},
     "output_type": "execute_result"
    }
   ],
   "source": [
    "case_data.isna().sum()"
   ]
  },
  {
   "cell_type": "code",
   "execution_count": 13,
   "id": "deb54327",
   "metadata": {},
   "outputs": [
    {
     "name": "stdout",
     "output_type": "stream",
     "text": [
      "<class 'pandas.core.frame.DataFrame'>\n",
      "Int64Index: 2969723 entries, 27 to 90183145\n",
      "Data columns (total 10 columns):\n",
      " #   Column                    Dtype   \n",
      "---  ------                    -----   \n",
      " 0   case_month                object  \n",
      " 1   res_state                 object  \n",
      " 2   age_group                 category\n",
      " 3   exposure_yn               category\n",
      " 4   current_status            category\n",
      " 5   symptom_status            category\n",
      " 6   hosp_yn                   category\n",
      " 7   icu_yn                    category\n",
      " 8   death_yn                  category\n",
      " 9   underlying_conditions_yn  category\n",
      "dtypes: category(8), object(2)\n",
      "memory usage: 90.6+ MB\n"
     ]
    }
   ],
   "source": [
    "case_data.info()"
   ]
  },
  {
   "cell_type": "code",
   "execution_count": 14,
   "id": "caade9b0",
   "metadata": {},
   "outputs": [],
   "source": [
    "# case_data = case_data[(case_data.death_yn !='Missing') & (case_data.death_yn !='Unknown')]\n",
    "case_data = case_data[(case_data.hosp_yn !='Missing') & (case_data.hosp_yn !='Unknown')]\n",
    "case_data = case_data[(case_data.icu_yn !='Missing') & (case_data.icu_yn !='Unknown')]\n",
    "case_data = case_data[(case_data.symptom_status !='Missing') & (case_data.symptom_status !='Unknown')]\n",
    "case_data = case_data[(case_data.current_status !='Probable Case')]"
   ]
  },
  {
   "cell_type": "code",
   "execution_count": 15,
   "id": "2c7f1fb8",
   "metadata": {},
   "outputs": [],
   "source": [
    "# case_data['underlying_conditions_yn'] = case_data.underlying_conditions_yn.replace({\"Yes\":1,\n",
    "#                                                         \"No\": 0})\n",
    "\n",
    "# case_data['death_yn'] = case_data.death_yn.replace({\"Yes\":1,\n",
    "#                                                         \"No\": 0})\n",
    "\n",
    "case_data['hosp_yn'] = case_data.hosp_yn.replace({\"Yes\":1,\n",
    "                                                        \"No\": 0})\n",
    "\n",
    "case_data['icu_yn'] = case_data.icu_yn.replace({\"Yes\":1,\n",
    "                                                        \"No\": 0})\n",
    "\n",
    "case_data['symptom_status'] = case_data.icu_yn.replace({\"Symptomatic\":1,\n",
    "                                                        \"Asymptomatic\": 0})"
   ]
  },
  {
   "cell_type": "code",
   "execution_count": 16,
   "id": "16190c7a",
   "metadata": {},
   "outputs": [
    {
     "name": "stdout",
     "output_type": "stream",
     "text": [
      "<class 'pandas.core.frame.DataFrame'>\n",
      "Int64Index: 730310 entries, 42 to 90183106\n",
      "Data columns (total 10 columns):\n",
      " #   Column                    Non-Null Count   Dtype   \n",
      "---  ------                    --------------   -----   \n",
      " 0   case_month                730310 non-null  object  \n",
      " 1   res_state                 730246 non-null  object  \n",
      " 2   age_group                 715907 non-null  category\n",
      " 3   exposure_yn               730310 non-null  category\n",
      " 4   current_status            730310 non-null  category\n",
      " 5   symptom_status            730310 non-null  category\n",
      " 6   hosp_yn                   730310 non-null  category\n",
      " 7   icu_yn                    730310 non-null  category\n",
      " 8   death_yn                  640684 non-null  category\n",
      " 9   underlying_conditions_yn  730310 non-null  category\n",
      "dtypes: category(8), object(2)\n",
      "memory usage: 22.3+ MB\n"
     ]
    }
   ],
   "source": [
    "# case_data.symptom_status.unique()\n",
    "case_data.info()\n",
    "# case_data['underlying_conditions_yn'] = case_data['underlying_conditions_yn'].astype('int')"
   ]
  },
  {
   "cell_type": "code",
   "execution_count": 17,
   "id": "875e9464",
   "metadata": {},
   "outputs": [],
   "source": [
    "# case_data['death_yn'] = case_data['death_yn'].astype(str).astype('int')"
   ]
  },
  {
   "cell_type": "code",
   "execution_count": 18,
   "id": "eec23b22",
   "metadata": {},
   "outputs": [],
   "source": [
    "case_data['hosp_yn'] = case_data['hosp_yn'].astype(str).astype('int')"
   ]
  },
  {
   "cell_type": "code",
   "execution_count": 19,
   "id": "047aa7d2",
   "metadata": {},
   "outputs": [],
   "source": [
    "case_data['icu_yn'] = case_data['icu_yn'].astype(str).astype('int')\n",
    "case_data['symptom_status'] = case_data['symptom_status'].astype(str).astype('int')"
   ]
  },
  {
   "cell_type": "code",
   "execution_count": 20,
   "id": "2fc451c4",
   "metadata": {},
   "outputs": [],
   "source": [
    "# # Multiple Regression\n",
    "# features = ['underlying_conditions_yn','hosp_yn','icu_yn','symptom_status']\n",
    "# label = ['death_yn']\n",
    "# X = case_data[features]\n",
    "# Y = case_data[label]\n",
    "# X_new = sm.add_constant(X)\n",
    "# regcorr = sm.OLS(Y,X_new)\n",
    "# stats = regcorr.fit()\n",
    "# print(stats.summary())"
   ]
  },
  {
   "cell_type": "code",
   "execution_count": 27,
   "id": "ffea34b6",
   "metadata": {},
   "outputs": [
    {
     "name": "stdout",
     "output_type": "stream",
     "text": [
      "0.5057817213703841 0.0\n"
     ]
    }
   ],
   "source": [
    "from scipy import stats\n",
    "r, p = stats.pearsonr(case_data.symptom_status,case_data.hosp_yn)\n",
    "print(r,p)"
   ]
  },
  {
   "cell_type": "code",
   "execution_count": null,
   "id": "2a9c90cc",
   "metadata": {},
   "outputs": [],
   "source": []
  }
 ],
 "metadata": {
  "kernelspec": {
   "display_name": "Python 3 (ipykernel)",
   "language": "python",
   "name": "python3"
  },
  "language_info": {
   "codemirror_mode": {
    "name": "ipython",
    "version": 3
   },
   "file_extension": ".py",
   "mimetype": "text/x-python",
   "name": "python",
   "nbconvert_exporter": "python",
   "pygments_lexer": "ipython3",
   "version": "3.9.12"
  }
 },
 "nbformat": 4,
 "nbformat_minor": 5
}
